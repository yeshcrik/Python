{
  "nbformat": 4,
  "nbformat_minor": 0,
  "metadata": {
    "colab": {
      "name": "Python01.ipynb",
      "provenance": [],
      "collapsed_sections": [],
      "mount_file_id": "1Vh70HYwWFhoz7ggDy3UygoLd3ZUNaIK9",
      "authorship_tag": "ABX9TyMnFzIS3Ia/ZKG0Ik2JXVsA",
      "include_colab_link": true
    },
    "kernelspec": {
      "name": "python3",
      "display_name": "Python 3"
    },
    "language_info": {
      "name": "python"
    }
  },
  "cells": [
    {
      "cell_type": "markdown",
      "metadata": {
        "id": "view-in-github",
        "colab_type": "text"
      },
      "source": [
        "<a href=\"https://colab.research.google.com/github/yeshcrik/Python/blob/main/Python01.ipynb\" target=\"_parent\"><img src=\"https://colab.research.google.com/assets/colab-badge.svg\" alt=\"Open In Colab\"/></a>"
      ]
    },
    {
      "cell_type": "code",
      "execution_count": null,
      "metadata": {
        "colab": {
          "base_uri": "https://localhost:8080/"
        },
        "id": "zGkjaqpAWox2",
        "outputId": "d59d2bab-9905-4d3a-8043-7ee5ab1c6a27"
      },
      "outputs": [
        {
          "output_type": "stream",
          "name": "stdout",
          "text": [
            "hi\n"
          ]
        }
      ],
      "source": [
        "print(\"hi\")"
      ]
    },
    {
      "cell_type": "code",
      "source": [
        "# print statement\n",
        "print(\"day 1 - python print function\")\n",
        "print(\"the function is declared like this:\")\n",
        "print(\"print('what to print')\")"
      ],
      "metadata": {
        "id": "72H2p7eKW8uo",
        "colab": {
          "base_uri": "https://localhost:8080/"
        },
        "outputId": "ff23e8e6-147a-4ea6-f05b-a940ae8d6388"
      },
      "execution_count": 4,
      "outputs": [
        {
          "output_type": "stream",
          "name": "stdout",
          "text": [
            "day 1 - python print function\n",
            "the function is declared like this:\n",
            "print('what to print')\n"
          ]
        }
      ]
    },
    {
      "cell_type": "code",
      "source": [
        "# concatenation\n",
        "print(\"hello world\" +  \" hello world\")"
      ],
      "metadata": {
        "colab": {
          "base_uri": "https://localhost:8080/"
        },
        "id": "VIVuqccpix-3",
        "outputId": "a0099327-7923-4b69-a3cd-208d273842e3"
      },
      "execution_count": 5,
      "outputs": [
        {
          "output_type": "stream",
          "name": "stdout",
          "text": [
            "hello world hello world\n"
          ]
        }
      ]
    },
    {
      "cell_type": "code",
      "source": [
        ""
      ],
      "metadata": {
        "id": "ASVi7l_Di4b6"
      },
      "execution_count": null,
      "outputs": []
    }
  ]
}