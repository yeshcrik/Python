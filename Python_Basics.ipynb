{
  "nbformat": 4,
  "nbformat_minor": 0,
  "metadata": {
    "colab": {
      "name": "Python_Basics.ipynb",
      "provenance": [],
      "collapsed_sections": [],
      "mount_file_id": "1Vh70HYwWFhoz7ggDy3UygoLd3ZUNaIK9",
      "authorship_tag": "ABX9TyNnxlceNe7jZ3Gwpj6KKLZY",
      "include_colab_link": true
    },
    "kernelspec": {
      "name": "python3",
      "display_name": "Python 3"
    },
    "language_info": {
      "name": "python"
    }
  },
  "cells": [
    {
      "cell_type": "markdown",
      "metadata": {
        "id": "view-in-github",
        "colab_type": "text"
      },
      "source": [
        "<a href=\"https://colab.research.google.com/github/yeshcrik/Python/blob/main/Python_Basics.ipynb\" target=\"_parent\"><img src=\"https://colab.research.google.com/assets/colab-badge.svg\" alt=\"Open In Colab\"/></a>"
      ]
    },
    {
      "cell_type": "code",
      "execution_count": null,
      "metadata": {
        "colab": {
          "base_uri": "https://localhost:8080/"
        },
        "id": "zGkjaqpAWox2",
        "outputId": "d59d2bab-9905-4d3a-8043-7ee5ab1c6a27"
      },
      "outputs": [
        {
          "output_type": "stream",
          "name": "stdout",
          "text": [
            "hi\n"
          ]
        }
      ],
      "source": [
        "print(\"hi\")"
      ]
    },
    {
      "cell_type": "code",
      "source": [
        "# print statement\n",
        "print(\"day 1 - python print function\")\n",
        "print(\"the function is declared like this:\")\n",
        "print(\"print('what to print')\")"
      ],
      "metadata": {
        "id": "72H2p7eKW8uo",
        "colab": {
          "base_uri": "https://localhost:8080/"
        },
        "outputId": "ff23e8e6-147a-4ea6-f05b-a940ae8d6388"
      },
      "execution_count": null,
      "outputs": [
        {
          "output_type": "stream",
          "name": "stdout",
          "text": [
            "day 1 - python print function\n",
            "the function is declared like this:\n",
            "print('what to print')\n"
          ]
        }
      ]
    },
    {
      "cell_type": "code",
      "source": [
        "# concatenation\n",
        "print(\"hello world\" +  \" hello world\")"
      ],
      "metadata": {
        "colab": {
          "base_uri": "https://localhost:8080/"
        },
        "id": "VIVuqccpix-3",
        "outputId": "a0099327-7923-4b69-a3cd-208d273842e3"
      },
      "execution_count": null,
      "outputs": [
        {
          "output_type": "stream",
          "name": "stdout",
          "text": [
            "hello world hello world\n"
          ]
        }
      ]
    },
    {
      "cell_type": "code",
      "source": [
        "  print(len(input(\"enter the name \")))"
      ],
      "metadata": {
        "colab": {
          "base_uri": "https://localhost:8080/"
        },
        "id": "ASVi7l_Di4b6",
        "outputId": "423208ae-cff0-400d-9fac-7ad33bd36432"
      },
      "execution_count": null,
      "outputs": [
        {
          "output_type": "stream",
          "name": "stdout",
          "text": [
            "enter the name yesh\n",
            "4\n"
          ]
        }
      ]
    },
    {
      "cell_type": "code",
      "source": [
        "name = input(\"enter your name\")\n",
        "length = len(name)\n",
        "print(length)"
      ],
      "metadata": {
        "colab": {
          "base_uri": "https://localhost:8080/"
        },
        "id": "iyfsyxJnkPnU",
        "outputId": "1f96633c-40c4-4d79-a676-dddaf1b6e7de"
      },
      "execution_count": null,
      "outputs": [
        {
          "output_type": "stream",
          "name": "stdout",
          "text": [
            "enter your nameyesh\n",
            "4\n"
          ]
        }
      ]
    },
    {
      "cell_type": "code",
      "source": [
        "name = input(\"what is your name\")\n",
        "print(name)"
      ],
      "metadata": {
        "id": "lRU7zpsDkezw",
        "colab": {
          "base_uri": "https://localhost:8080/"
        },
        "outputId": "dfb9bfbc-8cb5-4376-e58a-4cde95d15c6e"
      },
      "execution_count": 1,
      "outputs": [
        {
          "output_type": "stream",
          "name": "stdout",
          "text": [
            "what is your nameyesh\n",
            "yesh\n"
          ]
        }
      ]
    },
    {
      "cell_type": "code",
      "source": [
        "print(\"welcome to band name generator\")\n",
        "name = input(\"what's name of the city you grow up in \\n\")\n",
        "pet = input(\"what's your pets name \\n\")\n",
        "print(' your band name could be:' +name + \" \"+  pet )"
      ],
      "metadata": {
        "colab": {
          "base_uri": "https://localhost:8080/"
        },
        "id": "U0RlZkFT1RBp",
        "outputId": "6e901f9c-2d41-459d-bf6d-c19b4420ba43"
      },
      "execution_count": 2,
      "outputs": [
        {
          "output_type": "stream",
          "name": "stdout",
          "text": [
            "welcome to band name generator\n",
            "what's name of the city you grow up in \n",
            "bangalore\n",
            "what's your pets name \n",
            "manga\n",
            " your band name could be:bangalore manga\n"
          ]
        }
      ]
    },
    {
      "cell_type": "code",
      "source": [
        "numchar = len(input(\"whats is your name\"))\n",
        "new_num_char = str(numchar)\n",
        "print(\"your name has \" + new_num_char + \" characters\" )"
      ],
      "metadata": {
        "colab": {
          "base_uri": "https://localhost:8080/"
        },
        "id": "XabgVhtY1nxH",
        "outputId": "3985b414-5d4a-4f03-f24e-806579ed56eb"
      },
      "execution_count": 3,
      "outputs": [
        {
          "output_type": "stream",
          "name": "stdout",
          "text": [
            "whats is your nameyesh\n",
            "your name has 4 characters\n"
          ]
        }
      ]
    },
    {
      "cell_type": "code",
      "source": [
        "two_digit_num = str(input(\"enter a number\" ))\n",
        "first = two_digit_num[0]\n",
        "second = two_digit_num[1]\n",
        "result = int(first) + int(second)\n",
        "print(result)"
      ],
      "metadata": {
        "colab": {
          "base_uri": "https://localhost:8080/"
        },
        "id": "1lmvKVX11xc1",
        "outputId": "c8285e61-c9cb-45e0-a8d5-333353ded89d"
      },
      "execution_count": 12,
      "outputs": [
        {
          "output_type": "stream",
          "name": "stdout",
          "text": [
            "enter a number78\n",
            "15\n"
          ]
        }
      ]
    },
    {
      "cell_type": "code",
      "source": [
        "score = 0\n",
        "height = 1.8\n",
        "iswinning = True\n",
        "print(f\"your score is {score} , your height is {height} , your is winning is {iswinning}\")"
      ],
      "metadata": {
        "colab": {
          "base_uri": "https://localhost:8080/"
        },
        "id": "ejLHWslV13uF",
        "outputId": "6d794cd1-4b52-41a6-d3ba-f0cf38ecc334"
      },
      "execution_count": 15,
      "outputs": [
        {
          "output_type": "stream",
          "name": "stdout",
          "text": [
            "your score is 0 , your height is 1.8 , your is winning is True\n"
          ]
        }
      ]
    },
    {
      "cell_type": "code",
      "source": [
        "age = input(\"enter the actual age\")\n",
        "age_as_int = int(age)\n",
        "year_remaining = 90 - age_as_int\n",
        "days_remaining = year_remaining * 365\n",
        "weeks_remaining = year_remaining * 52\n",
        "months_remaining = year_remaining * 12\n",
        "print(f\"the remaining days: {days_remaining} , and months {months_remaining} , and weeks {weeks_remaining} left\")"
      ],
      "metadata": {
        "colab": {
          "base_uri": "https://localhost:8080/"
        },
        "id": "SUCKqqZ_2xaA",
        "outputId": "5831707d-78d0-41c7-d4f0-b2882c2f338a"
      },
      "execution_count": 16,
      "outputs": [
        {
          "output_type": "stream",
          "name": "stdout",
          "text": [
            "enter the actual age23\n",
            "the remaining days: 24455 , and months 804 , and weeks 3484 left\n"
          ]
        }
      ]
    },
    {
      "cell_type": "code",
      "source": [
        "print(\"welcome to the tip calculator\")\n",
        "bill = float(input(\"what is the total bill ? $\"))\n",
        "tip = int(input(\"what percenatge tip would be like to give ? , 10 , 12 or 15 ?\"))\n",
        "tip_as_percentage =  tip / 100\n",
        "total_tip = bill * tip_as_percentage\n",
        "total_bill = bill + total_tip\n",
        "people = int(input(\"how many people to split the bill ?\"))\n",
        "bill_per_person = total_bill / people\n",
        "# final = round(split_in , 2)\n",
        "final = \"{:.2f}\".format(bill_per_person)\n",
        "print(f\"each person should pay: ${final}\")"
      ],
      "metadata": {
        "colab": {
          "base_uri": "https://localhost:8080/"
        },
        "id": "JWwnPYxy3l-6",
        "outputId": "7a173794-7260-44b3-994e-080434a5dcd8"
      },
      "execution_count": 17,
      "outputs": [
        {
          "output_type": "stream",
          "name": "stdout",
          "text": [
            "welcome to the tip calculator\n",
            "what is the total bill ? $25\n",
            "what percenatge tip would be like to give ? , 10 , 12 or 15 ?10\n",
            "how many people to split the bill ?2\n",
            "each person should pay: $13.75\n"
          ]
        }
      ]
    },
    {
      "cell_type": "code",
      "source": [
        "# another form of doing this calculator\n",
        "print(\"welcome to the tip calculator\")\n",
        "bill = float(input(\"what is the total bill ? $\"))\n",
        "tip = int(input(\"what percenatge tip would be like to give ? , 10 , 12 or 15 ?\"))\n",
        "tip_as_percentage =  bill * (1 + tip / 100)\n",
        "people = int(input(\"how many people to split the bill ?\"))\n",
        "bill_per_person = tip_as_percentage / people\n",
        "# final = round(split_in , 2)\n",
        "final = \"{:.2f}\".format(bill_per_person)\n",
        "print(f\"each person should pay: ${final}\")"
      ],
      "metadata": {
        "colab": {
          "base_uri": "https://localhost:8080/"
        },
        "id": "nRIMH2E73r3h",
        "outputId": "944156ff-6d80-4366-dea4-44608a533d3c"
      },
      "execution_count": 18,
      "outputs": [
        {
          "output_type": "stream",
          "name": "stdout",
          "text": [
            "welcome to the tip calculator\n",
            "what is the total bill ? $25\n",
            "what percenatge tip would be like to give ? , 10 , 12 or 15 ?10\n",
            "how many people to split the bill ?2\n",
            "each person should pay: $13.75\n"
          ]
        }
      ]
    },
    {
      "cell_type": "code",
      "source": [
        ""
      ],
      "metadata": {
        "id": "kuYVPj743_wc"
      },
      "execution_count": null,
      "outputs": []
    }
  ]
}